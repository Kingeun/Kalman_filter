{
  "nbformat": 4,
  "nbformat_minor": 0,
  "metadata": {
    "colab": {
      "name": "FilterPy라이브러리.ipynb",
      "provenance": []
    },
    "kernelspec": {
      "name": "python3",
      "display_name": "Python 3"
    },
    "language_info": {
      "name": "python"
    }
  },
  "cells": [
    {
      "cell_type": "markdown",
      "source": [
        "https://filterpy.readthedocs.io/en/latest/kalman/KalmanFilter.html\n",
        "\n",
        "https://www.kalmanfilter.net/multiExamples.html -> Example9"
      ],
      "metadata": {
        "id": "5AMKqlo4U9IN"
      }
    },
    {
      "cell_type": "code",
      "execution_count": null,
      "metadata": {
        "colab": {
          "base_uri": "https://localhost:8080/"
        },
        "id": "KGpEmRLzGq8d",
        "outputId": "ef5c22b6-f560-45cb-d86d-eb8f5bf4f616"
      },
      "outputs": [
        {
          "output_type": "stream",
          "name": "stdout",
          "text": [
            "Collecting filterpy\n",
            "  Downloading filterpy-1.4.5.zip (177 kB)\n",
            "\u001b[?25l\r\u001b[K     |█▉                              | 10 kB 21.1 MB/s eta 0:00:01\r\u001b[K     |███▊                            | 20 kB 27.8 MB/s eta 0:00:01\r\u001b[K     |█████▌                          | 30 kB 34.1 MB/s eta 0:00:01\r\u001b[K     |███████▍                        | 40 kB 23.0 MB/s eta 0:00:01\r\u001b[K     |█████████▏                      | 51 kB 17.3 MB/s eta 0:00:01\r\u001b[K     |███████████                     | 61 kB 19.4 MB/s eta 0:00:01\r\u001b[K     |████████████▉                   | 71 kB 20.2 MB/s eta 0:00:01\r\u001b[K     |██████████████▊                 | 81 kB 21.4 MB/s eta 0:00:01\r\u001b[K     |████████████████▋               | 92 kB 23.0 MB/s eta 0:00:01\r\u001b[K     |██████████████████▍             | 102 kB 20.4 MB/s eta 0:00:01\r\u001b[K     |████████████████████▎           | 112 kB 20.4 MB/s eta 0:00:01\r\u001b[K     |██████████████████████          | 122 kB 20.4 MB/s eta 0:00:01\r\u001b[K     |████████████████████████        | 133 kB 20.4 MB/s eta 0:00:01\r\u001b[K     |█████████████████████████▊      | 143 kB 20.4 MB/s eta 0:00:01\r\u001b[K     |███████████████████████████▋    | 153 kB 20.4 MB/s eta 0:00:01\r\u001b[K     |█████████████████████████████▌  | 163 kB 20.4 MB/s eta 0:00:01\r\u001b[K     |███████████████████████████████▎| 174 kB 20.4 MB/s eta 0:00:01\r\u001b[K     |████████████████████████████████| 177 kB 20.4 MB/s \n",
            "\u001b[?25hRequirement already satisfied: numpy in /usr/local/lib/python3.7/dist-packages (from filterpy) (1.21.6)\n",
            "Requirement already satisfied: scipy in /usr/local/lib/python3.7/dist-packages (from filterpy) (1.4.1)\n",
            "Requirement already satisfied: matplotlib in /usr/local/lib/python3.7/dist-packages (from filterpy) (3.2.2)\n",
            "Requirement already satisfied: python-dateutil>=2.1 in /usr/local/lib/python3.7/dist-packages (from matplotlib->filterpy) (2.8.2)\n",
            "Requirement already satisfied: pyparsing!=2.0.4,!=2.1.2,!=2.1.6,>=2.0.1 in /usr/local/lib/python3.7/dist-packages (from matplotlib->filterpy) (3.0.8)\n",
            "Requirement already satisfied: cycler>=0.10 in /usr/local/lib/python3.7/dist-packages (from matplotlib->filterpy) (0.11.0)\n",
            "Requirement already satisfied: kiwisolver>=1.0.1 in /usr/local/lib/python3.7/dist-packages (from matplotlib->filterpy) (1.4.2)\n",
            "Requirement already satisfied: typing-extensions in /usr/local/lib/python3.7/dist-packages (from kiwisolver>=1.0.1->matplotlib->filterpy) (4.2.0)\n",
            "Requirement already satisfied: six>=1.5 in /usr/local/lib/python3.7/dist-packages (from python-dateutil>=2.1->matplotlib->filterpy) (1.15.0)\n",
            "Building wheels for collected packages: filterpy\n",
            "  Building wheel for filterpy (setup.py) ... \u001b[?25l\u001b[?25hdone\n",
            "  Created wheel for filterpy: filename=filterpy-1.4.5-py3-none-any.whl size=110474 sha256=98c2c6510b7b7f00de80dfd615a4b6c434c7fb2e0eb7ac4d195ec0dd293b35e4\n",
            "  Stored in directory: /root/.cache/pip/wheels/ce/e0/ee/a2b3c5caab3418c1ccd8c4de573d4cbe13315d7e8b0a55fbc2\n",
            "Successfully built filterpy\n",
            "Installing collected packages: filterpy\n",
            "Successfully installed filterpy-1.4.5\n"
          ]
        }
      ],
      "source": [
        "!pip install filterpy"
      ]
    },
    {
      "cell_type": "code",
      "source": [
        "import numpy as np\n",
        "from filterpy.kalman import KalmanFilter\n",
        "from filterpy.common import Q_discrete_white_noise"
      ],
      "metadata": {
        "id": "1XrL6I80Gz3o"
      },
      "execution_count": null,
      "outputs": []
    },
    {
      "cell_type": "code",
      "source": [
        "kf = KalmanFilter(dim_x=6, dim_z=2)\n",
        "kf"
      ],
      "metadata": {
        "id": "6hwFYrEvHH9t",
        "colab": {
          "base_uri": "https://localhost:8080/"
        },
        "outputId": "20644e9c-2c17-43bb-cbf0-958144b204a0"
      },
      "execution_count": null,
      "outputs": [
        {
          "output_type": "execute_result",
          "data": {
            "text/plain": [
              "KalmanFilter object\n",
              "dim_x = 6\n",
              "dim_z = 2\n",
              "dim_u = 0\n",
              "x = [[0. 0. 0. 0. 0. 0.]].T\n",
              "P = [[1. 0. 0. 0. 0. 0.]\n",
              "     [0. 1. 0. 0. 0. 0.]\n",
              "     [0. 0. 1. 0. 0. 0.]\n",
              "     [0. 0. 0. 1. 0. 0.]\n",
              "     [0. 0. 0. 0. 1. 0.]\n",
              "     [0. 0. 0. 0. 0. 1.]]\n",
              "x_prior = [[0. 0. 0. 0. 0. 0.]].T\n",
              "P_prior = [[1. 0. 0. 0. 0. 0.]\n",
              "           [0. 1. 0. 0. 0. 0.]\n",
              "           [0. 0. 1. 0. 0. 0.]\n",
              "           [0. 0. 0. 1. 0. 0.]\n",
              "           [0. 0. 0. 0. 1. 0.]\n",
              "           [0. 0. 0. 0. 0. 1.]]\n",
              "x_post = [[0. 0. 0. 0. 0. 0.]].T\n",
              "P_post = [[1. 0. 0. 0. 0. 0.]\n",
              "          [0. 1. 0. 0. 0. 0.]\n",
              "          [0. 0. 1. 0. 0. 0.]\n",
              "          [0. 0. 0. 1. 0. 0.]\n",
              "          [0. 0. 0. 0. 1. 0.]\n",
              "          [0. 0. 0. 0. 0. 1.]]\n",
              "F = [[1. 0. 0. 0. 0. 0.]\n",
              "     [0. 1. 0. 0. 0. 0.]\n",
              "     [0. 0. 1. 0. 0. 0.]\n",
              "     [0. 0. 0. 1. 0. 0.]\n",
              "     [0. 0. 0. 0. 1. 0.]\n",
              "     [0. 0. 0. 0. 0. 1.]]\n",
              "Q = [[1. 0. 0. 0. 0. 0.]\n",
              "     [0. 1. 0. 0. 0. 0.]\n",
              "     [0. 0. 1. 0. 0. 0.]\n",
              "     [0. 0. 0. 1. 0. 0.]\n",
              "     [0. 0. 0. 0. 1. 0.]\n",
              "     [0. 0. 0. 0. 0. 1.]]\n",
              "R = [[1. 0.]\n",
              "     [0. 1.]]\n",
              "H = [[0. 0. 0. 0. 0. 0.]\n",
              "     [0. 0. 0. 0. 0. 0.]]\n",
              "K = [[0. 0.]\n",
              "     [0. 0.]\n",
              "     [0. 0.]\n",
              "     [0. 0.]\n",
              "     [0. 0.]\n",
              "     [0. 0.]]\n",
              "y = [[0. 0.]].T\n",
              "S = [[0. 0.]\n",
              "     [0. 0.]]\n",
              "SI = [[0. 0.]\n",
              "      [0. 0.]]\n",
              "M = [[0. 0.]\n",
              "     [0. 0.]]\n",
              "B = None\n",
              "z = [[None None]].T\n",
              "log-likelihood = -708.3964185322641\n",
              "likelihood = 2.2250738585072014e-308\n",
              "mahalanobis = 0.0\n",
              "alpha = 1.0\n",
              "inv = <function inv at 0x7f148756f170>"
            ]
          },
          "metadata": {},
          "execution_count": 4
        }
      ]
    },
    {
      "cell_type": "markdown",
      "source": [
        "### 1. State Transition Matrix(state extrapolation)\n",
        "->F"
      ],
      "metadata": {
        "id": "FP6Xnhr5Vxis"
      }
    },
    {
      "cell_type": "code",
      "source": [
        "kf.F = np.array([\n",
        "    [1, 1, 0.5, 0, 0, 0], \n",
        "    [0, 1, 1, 0, 0, 0], \n",
        "    [0, 0, 1, 0, 0, 0], \n",
        "    [0, 0, 0, 1, 1, 0.5], \n",
        "    [0, 0, 0, 0, 1, 1],\n",
        "    [0, 0, 0, 0, 0, 1]\n",
        "])"
      ],
      "metadata": {
        "id": "_QR2cTD8VwYB"
      },
      "execution_count": null,
      "outputs": []
    },
    {
      "cell_type": "markdown",
      "source": [
        "### 2. Process noise matrix\n",
        "->Q"
      ],
      "metadata": {
        "id": "swCWA1ANV5aL"
      }
    },
    {
      "cell_type": "code",
      "source": [
        "kf.Q = np.array([\n",
        "    [0.25, 0.5, 0.5, 0, 0, 0], \n",
        "    [0.5, 1, 1, 0, 0, 0], \n",
        "    [0.5, 1, 1, 0, 0, 0], \n",
        "    [0, 0, 0, 0.25, 0.5, 0.5],\n",
        "    [0, 0, 0, 0.5, 1, 1],\n",
        "    [0, 0, 0, 0.5, 1, 1]\n",
        "])\n",
        "kf.Q *= 0.5**2"
      ],
      "metadata": {
        "id": "LoXl5kKxV4ut"
      },
      "execution_count": null,
      "outputs": []
    },
    {
      "cell_type": "markdown",
      "source": [
        "### 3. Measurement uncertainty\n",
        "->$R_n$"
      ],
      "metadata": {
        "id": "HQ_R9e8sWCrf"
      }
    },
    {
      "cell_type": "code",
      "source": [
        "kf.R = np.array([[9, 0], [0, 9]])"
      ],
      "metadata": {
        "id": "2gz0BeKjV4ym"
      },
      "execution_count": null,
      "outputs": []
    },
    {
      "cell_type": "markdown",
      "source": [
        "### 4. Measurement function\n",
        "-> H"
      ],
      "metadata": {
        "id": "iPvBKcFLWK5S"
      }
    },
    {
      "cell_type": "code",
      "source": [
        "kf.H = np.array([[1, 0, 0, 0, 0, 0], [0, 0, 0, 1, 0, 0]])"
      ],
      "metadata": {
        "id": "v3r1N1OwV42t"
      },
      "execution_count": null,
      "outputs": []
    },
    {
      "cell_type": "markdown",
      "source": [
        "### 5. Initalization\n",
        "-> $\\hat{x}_{0,0},P_{0,0}$"
      ],
      "metadata": {
        "id": "iC2EF991WTJe"
      }
    },
    {
      "cell_type": "code",
      "source": [
        "kf.x = np.array([0, 0, 0, 0, 0, 0])\n",
        "kf.P = np.array([\n",
        "    [500, 0, 0, 0, 0, 0],\n",
        "    [0, 500, 0, 0, 0, 0],\n",
        "    [0, 0, 500, 0, 0, 0],\n",
        "    [0, 0, 0, 500, 0, 0],\n",
        "    [0, 0, 0, 0, 500, 0],\n",
        "    [0, 0, 0, 0, 0, 500],\n",
        "])"
      ],
      "metadata": {
        "id": "vW_cF4jtWiA9"
      },
      "execution_count": null,
      "outputs": []
    },
    {
      "cell_type": "code",
      "source": [
        "kf"
      ],
      "metadata": {
        "colab": {
          "base_uri": "https://localhost:8080/"
        },
        "id": "0hhVzDnWV468",
        "outputId": "30328503-912f-4825-d027-173650d2f031"
      },
      "execution_count": null,
      "outputs": [
        {
          "output_type": "execute_result",
          "data": {
            "text/plain": [
              "KalmanFilter object\n",
              "dim_x = 6\n",
              "dim_z = 2\n",
              "dim_u = 0\n",
              "x = [0 0 0 0 0 0]\n",
              "P = [[500   0   0   0   0   0]\n",
              "     [  0 500   0   0   0   0]\n",
              "     [  0   0 500   0   0   0]\n",
              "     [  0   0   0 500   0   0]\n",
              "     [  0   0   0   0 500   0]\n",
              "     [  0   0   0   0   0 500]]\n",
              "x_prior = [[0. 0. 0. 0. 0. 0.]].T\n",
              "P_prior = [[1. 0. 0. 0. 0. 0.]\n",
              "           [0. 1. 0. 0. 0. 0.]\n",
              "           [0. 0. 1. 0. 0. 0.]\n",
              "           [0. 0. 0. 1. 0. 0.]\n",
              "           [0. 0. 0. 0. 1. 0.]\n",
              "           [0. 0. 0. 0. 0. 1.]]\n",
              "x_post = [[0. 0. 0. 0. 0. 0.]].T\n",
              "P_post = [[1. 0. 0. 0. 0. 0.]\n",
              "          [0. 1. 0. 0. 0. 0.]\n",
              "          [0. 0. 1. 0. 0. 0.]\n",
              "          [0. 0. 0. 1. 0. 0.]\n",
              "          [0. 0. 0. 0. 1. 0.]\n",
              "          [0. 0. 0. 0. 0. 1.]]\n",
              "F = [[1.  1.  0.5 0.  0.  0. ]\n",
              "     [0.  1.  1.  0.  0.  0. ]\n",
              "     [0.  0.  1.  0.  0.  0. ]\n",
              "     [0.  0.  0.  1.  1.  0.5]\n",
              "     [0.  0.  0.  0.  1.  1. ]\n",
              "     [0.  0.  0.  0.  0.  1. ]]\n",
              "Q = [[0.0625 0.125  0.125  0.     0.     0.    ]\n",
              "     [0.125  0.25   0.25   0.     0.     0.    ]\n",
              "     [0.125  0.25   0.25   0.     0.     0.    ]\n",
              "     [0.     0.     0.     0.0625 0.125  0.125 ]\n",
              "     [0.     0.     0.     0.125  0.25   0.25  ]\n",
              "     [0.     0.     0.     0.125  0.25   0.25  ]]\n",
              "R = [[9 0]\n",
              "     [0 9]]\n",
              "H = [[1 0 0 0 0 0]\n",
              "     [0 0 0 1 0 0]]\n",
              "K = [[0. 0.]\n",
              "     [0. 0.]\n",
              "     [0. 0.]\n",
              "     [0. 0.]\n",
              "     [0. 0.]\n",
              "     [0. 0.]]\n",
              "y = [[0. 0.]].T\n",
              "S = [[0. 0.]\n",
              "     [0. 0.]]\n",
              "SI = [[0. 0.]\n",
              "      [0. 0.]]\n",
              "M = [[0. 0.]\n",
              "     [0. 0.]]\n",
              "B = None\n",
              "z = [[None None]].T\n",
              "log-likelihood = -708.3964185322641\n",
              "likelihood = 2.2250738585072014e-308\n",
              "mahalanobis = 0.0\n",
              "alpha = 1.0\n",
              "inv = <function inv at 0x7f148756f170>"
            ]
          },
          "metadata": {},
          "execution_count": 10
        }
      ]
    },
    {
      "cell_type": "markdown",
      "source": [
        "## Predict"
      ],
      "metadata": {
        "id": "zhDcaCYxWl5b"
      }
    },
    {
      "cell_type": "code",
      "source": [
        "kf.predict()\n",
        "kf"
      ],
      "metadata": {
        "colab": {
          "base_uri": "https://localhost:8080/"
        },
        "id": "Fsu8EqxpWomz",
        "outputId": "0560fdce-bdec-4180-ca50-6a3c392544fb"
      },
      "execution_count": null,
      "outputs": [
        {
          "output_type": "execute_result",
          "data": {
            "text/plain": [
              "KalmanFilter object\n",
              "dim_x = 6\n",
              "dim_z = 2\n",
              "dim_u = 0\n",
              "x = [0. 0. 0. 0. 0. 0.]\n",
              "P = [[1125.0625  750.125   250.125     0.        0.        0.    ]\n",
              "     [ 750.125  1000.25    500.25      0.        0.        0.    ]\n",
              "     [ 250.125   500.25    500.25      0.        0.        0.    ]\n",
              "     [   0.        0.        0.     1125.0625  750.125   250.125 ]\n",
              "     [   0.        0.        0.      750.125  1000.25    500.25  ]\n",
              "     [   0.        0.        0.      250.125   500.25    500.25  ]]\n",
              "x_prior = [0. 0. 0. 0. 0. 0.]\n",
              "P_prior = [[1125.0625  750.125   250.125     0.        0.        0.    ]\n",
              "           [ 750.125  1000.25    500.25      0.        0.        0.    ]\n",
              "           [ 250.125   500.25    500.25      0.        0.        0.    ]\n",
              "           [   0.        0.        0.     1125.0625  750.125   250.125 ]\n",
              "           [   0.        0.        0.      750.125  1000.25    500.25  ]\n",
              "           [   0.        0.        0.      250.125   500.25    500.25  ]]\n",
              "x_post = [[0. 0. 0. 0. 0. 0.]].T\n",
              "P_post = [[1. 0. 0. 0. 0. 0.]\n",
              "          [0. 1. 0. 0. 0. 0.]\n",
              "          [0. 0. 1. 0. 0. 0.]\n",
              "          [0. 0. 0. 1. 0. 0.]\n",
              "          [0. 0. 0. 0. 1. 0.]\n",
              "          [0. 0. 0. 0. 0. 1.]]\n",
              "F = [[1.  1.  0.5 0.  0.  0. ]\n",
              "     [0.  1.  1.  0.  0.  0. ]\n",
              "     [0.  0.  1.  0.  0.  0. ]\n",
              "     [0.  0.  0.  1.  1.  0.5]\n",
              "     [0.  0.  0.  0.  1.  1. ]\n",
              "     [0.  0.  0.  0.  0.  1. ]]\n",
              "Q = [[0.0625 0.125  0.125  0.     0.     0.    ]\n",
              "     [0.125  0.25   0.25   0.     0.     0.    ]\n",
              "     [0.125  0.25   0.25   0.     0.     0.    ]\n",
              "     [0.     0.     0.     0.0625 0.125  0.125 ]\n",
              "     [0.     0.     0.     0.125  0.25   0.25  ]\n",
              "     [0.     0.     0.     0.125  0.25   0.25  ]]\n",
              "R = [[9 0]\n",
              "     [0 9]]\n",
              "H = [[1 0 0 0 0 0]\n",
              "     [0 0 0 1 0 0]]\n",
              "K = [[0. 0.]\n",
              "     [0. 0.]\n",
              "     [0. 0.]\n",
              "     [0. 0.]\n",
              "     [0. 0.]\n",
              "     [0. 0.]]\n",
              "y = [[0. 0.]].T\n",
              "S = [[0. 0.]\n",
              "     [0. 0.]]\n",
              "SI = [[0. 0.]\n",
              "      [0. 0.]]\n",
              "M = [[0. 0.]\n",
              "     [0. 0.]]\n",
              "B = None\n",
              "z = [[None None]].T\n",
              "log-likelihood = -708.3964185322641\n",
              "likelihood = 2.2250738585072014e-308\n",
              "mahalanobis = 0.0\n",
              "alpha = 1.0\n",
              "inv = <function inv at 0x7f148756f170>"
            ]
          },
          "metadata": {},
          "execution_count": 11
        }
      ]
    },
    {
      "cell_type": "markdown",
      "source": [
        "## Update"
      ],
      "metadata": {
        "id": "ywaCCQj7WrY6"
      }
    },
    {
      "cell_type": "code",
      "source": [
        "kf.update(np.array([-393.66, 300.4]))\n",
        "kf"
      ],
      "metadata": {
        "colab": {
          "base_uri": "https://localhost:8080/"
        },
        "id": "oM7eqlpRWtmj",
        "outputId": "67229a67-4b66-45ba-dacc-f377693f33b7"
      },
      "execution_count": null,
      "outputs": [
        {
          "output_type": "execute_result",
          "data": {
            "text/plain": [
              "KalmanFilter object\n",
              "dim_x = 6\n",
              "dim_z = 2\n",
              "dim_u = 0\n",
              "x = [-390.53588647 -260.38618462  -86.82432185  298.01600441  198.69941031\n",
              "       66.2552108 ]\n",
              "P = [[  8.92857537   5.95304492   1.98500964   0.           0.\n",
              "        0.        ]\n",
              "     [  5.95304492 504.08024249 334.80496004   0.           0.\n",
              "        0.        ]\n",
              "     [  1.98500964 334.80496004 445.08327363   0.           0.\n",
              "        0.        ]\n",
              "     [  0.           0.           0.           8.92857537   5.95304492\n",
              "        1.98500964]\n",
              "     [  0.           0.           0.           5.95304492 504.08024249\n",
              "      334.80496004]\n",
              "     [  0.           0.           0.           1.98500964 334.80496004\n",
              "      445.08327363]]\n",
              "x_prior = [0. 0. 0. 0. 0. 0.]\n",
              "P_prior = [[1125.0625  750.125   250.125     0.        0.        0.    ]\n",
              "           [ 750.125  1000.25    500.25      0.        0.        0.    ]\n",
              "           [ 250.125   500.25    500.25      0.        0.        0.    ]\n",
              "           [   0.        0.        0.     1125.0625  750.125   250.125 ]\n",
              "           [   0.        0.        0.      750.125  1000.25    500.25  ]\n",
              "           [   0.        0.        0.      250.125   500.25    500.25  ]]\n",
              "x_post = [-390.53588647 -260.38618462  -86.82432185  298.01600441  198.69941031\n",
              "            66.2552108 ]\n",
              "P_post = [[  8.92857537   5.95304492   1.98500964   0.           0.\n",
              "             0.        ]\n",
              "          [  5.95304492 504.08024249 334.80496004   0.           0.\n",
              "             0.        ]\n",
              "          [  1.98500964 334.80496004 445.08327363   0.           0.\n",
              "             0.        ]\n",
              "          [  0.           0.           0.           8.92857537   5.95304492\n",
              "             1.98500964]\n",
              "          [  0.           0.           0.           5.95304492 504.08024249\n",
              "           334.80496004]\n",
              "          [  0.           0.           0.           1.98500964 334.80496004\n",
              "           445.08327363]]\n",
              "F = [[1.  1.  0.5 0.  0.  0. ]\n",
              "     [0.  1.  1.  0.  0.  0. ]\n",
              "     [0.  0.  1.  0.  0.  0. ]\n",
              "     [0.  0.  0.  1.  1.  0.5]\n",
              "     [0.  0.  0.  0.  1.  1. ]\n",
              "     [0.  0.  0.  0.  0.  1. ]]\n",
              "Q = [[0.0625 0.125  0.125  0.     0.     0.    ]\n",
              "     [0.125  0.25   0.25   0.     0.     0.    ]\n",
              "     [0.125  0.25   0.25   0.     0.     0.    ]\n",
              "     [0.     0.     0.     0.0625 0.125  0.125 ]\n",
              "     [0.     0.     0.     0.125  0.25   0.25  ]\n",
              "     [0.     0.     0.     0.125  0.25   0.25  ]]\n",
              "R = [[9 0]\n",
              "     [0 9]]\n",
              "H = [[1 0 0 0 0 0]\n",
              "     [0 0 0 1 0 0]]\n",
              "K = [[0.99206393 0.        ]\n",
              "     [0.66144944 0.        ]\n",
              "     [0.22055663 0.        ]\n",
              "     [0.         0.99206393]\n",
              "     [0.         0.66144944]\n",
              "     [0.         0.22055663]]\n",
              "y = [-393.66  300.4 ]\n",
              "S = [[1134.0625    0.    ]\n",
              "     [   0.     1134.0625]]\n",
              "SI = [[0.00088179 0.        ]\n",
              "      [0.         0.00088179]]\n",
              "M = [[0. 0.]\n",
              "     [0. 0.]]\n",
              "B = None\n",
              "z = [-393.66  300.4 ]\n",
              "log-likelihood = -116.98203909368722\n",
              "likelihood = 1.5679995720628996e-51\n",
              "mahalanobis = 14.704461937104023\n",
              "alpha = 1.0\n",
              "inv = <function inv at 0x7f148756f170>"
            ]
          },
          "metadata": {},
          "execution_count": 12
        }
      ]
    },
    {
      "cell_type": "code",
      "source": [
        "print('*************state*************')\n",
        "print(kf.x)\n",
        "print('*************location*************')\n",
        "print(kf.y)\n",
        "print('*************Kalman Gain*************')\n",
        "print(kf.K)\n",
        "print('*************Covariance matrix*************')\n",
        "print(kf.P)"
      ],
      "metadata": {
        "colab": {
          "base_uri": "https://localhost:8080/"
        },
        "id": "_eQRfgGXWxRc",
        "outputId": "475fafae-f2d1-4a9c-fcec-1ee00e4b5f49"
      },
      "execution_count": null,
      "outputs": [
        {
          "output_type": "stream",
          "name": "stdout",
          "text": [
            "*************state*************\n",
            "[-390.53588647 -260.38618462  -86.82432185  298.01600441  198.69941031\n",
            "   66.2552108 ]\n",
            "*************location*************\n",
            "[-393.66  300.4 ]\n",
            "*************Kalman Gain*************\n",
            "[[0.99206393 0.        ]\n",
            " [0.66144944 0.        ]\n",
            " [0.22055663 0.        ]\n",
            " [0.         0.99206393]\n",
            " [0.         0.66144944]\n",
            " [0.         0.22055663]]\n",
            "*************Covariance matrix*************\n",
            "[[  8.92857537   5.95304492   1.98500964   0.           0.\n",
            "    0.        ]\n",
            " [  5.95304492 504.08024249 334.80496004   0.           0.\n",
            "    0.        ]\n",
            " [  1.98500964 334.80496004 445.08327363   0.           0.\n",
            "    0.        ]\n",
            " [  0.           0.           0.           8.92857537   5.95304492\n",
            "    1.98500964]\n",
            " [  0.           0.           0.           5.95304492 504.08024249\n",
            "  334.80496004]\n",
            " [  0.           0.           0.           1.98500964 334.80496004\n",
            "  445.08327363]]\n"
          ]
        }
      ]
    },
    {
      "cell_type": "markdown",
      "source": [
        "## Implement"
      ],
      "metadata": {
        "id": "aivVHEJoW0Uo"
      }
    },
    {
      "cell_type": "code",
      "source": [
        "kf = KalmanFilter(dim_x=6, dim_z=2)\n",
        "\n",
        "# Variables\n",
        "kf.F = np.array([[1,1,0.5,0,0,0],[0,1,1,0,0,0],[0,0,1,0,0,0],[0,0,0,1,1,0.5],[0,0,0,0,1,1],[0,0,0,0,0,1]])\n",
        "kf.Q = np.array([[0.25,0.5,0.5,0,0,0],[0.5,1,1,0,0,0],[0.5,1,1,0,0,0],[0,0,0,0.25,0.5,0.5],[0,0,0,0.5,1,1],[0,0,0,0.5,1,1]])\n",
        "kf.Q *= 0.5**2\n",
        "kf.R = np.array([[9, 0], [0, 9]])\n",
        "kf.H = np.array([[1, 0, 0, 0, 0, 0], [0, 0, 0, 1, 0, 0]])\n",
        "\n",
        "# Initalizaiton\n",
        "kf.x = np.array([0, 0, 0, 0, 0, 0])\n",
        "kf.P *= 500\n",
        "\n",
        "# noisy measurements\n",
        "measurements = np.array([\n",
        "    [-393.66,  300.4 ],\n",
        "    [-375.93,  301.78],\n",
        "    [-351.04,  295.1 ],\n",
        "    [-328.96,  305.19],\n",
        "    [-299.35,  301.06],\n",
        "    [-273.36,  302.05],\n",
        "    [-245.89,  300.  ],\n",
        "    [-222.58,  303.57],\n",
        "    [-198.03,  296.33],\n",
        "    [-174.17,  297.65],\n",
        "    [-146.32,  297.41],\n",
        "    [-123.72,  299.61],\n",
        "    [-103.47,  299.6 ],\n",
        "    [ -78.23,  302.39],\n",
        "    [ -52.63,  295.04],\n",
        "    [ -23.34,  300.09],\n",
        "    [  25.96,  294.72],\n",
        "    [  49.72,  298.61],\n",
        "    [  76.94,  294.64],\n",
        "    [  95.38,  284.88],\n",
        "    [ 119.83,  272.82],\n",
        "    [ 144.01,  264.93],\n",
        "    [ 161.84,  251.46],\n",
        "    [ 180.56,  241.27],\n",
        "    [ 201.42,  222.98],\n",
        "    [ 222.62,  203.73],\n",
        "    [ 239.4 ,  184.1 ],\n",
        "    [ 252.51,  166.12],\n",
        "    [ 266.26,  138.71],\n",
        "    [ 271.75,  119.71],\n",
        "    [ 277.4 ,  100.41],\n",
        "    [ 294.12,   79.76],\n",
        "    [ 301.23,   50.62],\n",
        "    [ 291.8 ,   32.99],\n",
        "    [ 299.89,    2.14]\n",
        "])"
      ],
      "metadata": {
        "id": "LCzri4YxWzp-"
      },
      "execution_count": null,
      "outputs": []
    },
    {
      "cell_type": "code",
      "source": [
        "estimates = np.zeros_like(measurements)\n",
        "kf.predict() # x1, p1\n",
        "\n",
        "for idx in range(0, len(measurements)):\n",
        "    m = measurements[idx]    \n",
        "    kf.update(m)\n",
        "    estimates[idx,0] = kf.x[0]\n",
        "    estimates[idx,1] = kf.x[3]\n",
        "    \n",
        "    kf.predict()"
      ],
      "metadata": {
        "id": "tMkH0RWRW6NZ"
      },
      "execution_count": null,
      "outputs": []
    },
    {
      "cell_type": "code",
      "source": [
        "import matplotlib.pyplot as plt\n",
        "\n",
        "plt.figure(figsize=(12,5))\n",
        "plt.scatter(measurements[:,0], measurements[:,1])\n",
        "plt.scatter(estimates[:,0], estimates[:,1])\n",
        "plt.legend(['Measurements', 'Estiamte'])"
      ],
      "metadata": {
        "colab": {
          "base_uri": "https://localhost:8080/",
          "height": 310
        },
        "id": "XaynwIyTW6T3",
        "outputId": "55e691c9-d592-47e5-8a23-ab91b1cba158"
      },
      "execution_count": null,
      "outputs": [
        {
          "output_type": "execute_result",
          "data": {
            "text/plain": [
              "<matplotlib.legend.Legend at 0x7f146eae4190>"
            ]
          },
          "metadata": {},
          "execution_count": 16
        },
        {
          "output_type": "display_data",
          "data": {
            "text/plain": [
              "<Figure size 864x360 with 1 Axes>"
            ],
            "image/png": "[encoded data removed]"
          },
          "metadata": {
            "needs_background": "light"
          }
        }
      ]
    },
    {
      "cell_type": "code",
      "source": [
        ""
      ],
      "metadata": {
        "id": "JMD-7X4fW6aE"
      },
      "execution_count": null,
      "outputs": []
    }
  ]
}