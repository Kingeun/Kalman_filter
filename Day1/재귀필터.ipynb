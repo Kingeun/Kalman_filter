{
  "nbformat": 4,
  "nbformat_minor": 0,
  "metadata": {
    "colab": {
      "name": "재귀필터.ipynb",
      "provenance": []
    },
    "kernelspec": {
      "name": "python3",
      "display_name": "Python 3"
    },
    "language_info": {
      "name": "python"
    }
  },
  "cells": [
    {
      "cell_type": "code",
      "execution_count": 1,
      "metadata": {
        "colab": {
          "base_uri": "https://localhost:8080/"
        },
        "id": "FWWWnNF6U6BW",
        "outputId": "ece5c003-f184-4c80-ccff-26357ee85935"
      },
      "outputs": [
        {
          "output_type": "stream",
          "name": "stdout",
          "text": [
            "/content/drive/MyDrive/Colab Notebooks/kalman_filter\n"
          ]
        }
      ],
      "source": [
        "%cd /content/drive/MyDrive/Colab Notebooks/kalman_filter"
      ]
    },
    {
      "cell_type": "code",
      "source": [
        "!unzip -qq \"/content/drive/MyDrive/Colab Notebooks/kalman_filter/source.zip\""
      ],
      "metadata": {
        "id": "DsUzpHxeWPbQ",
        "colab": {
          "base_uri": "https://localhost:8080/"
        },
        "outputId": "75893f86-f427-43da-d553-16cfb01f962b"
      },
      "execution_count": 2,
      "outputs": [
        {
          "output_type": "stream",
          "name": "stdout",
          "text": [
            "replace 16.CompFilter/ArsAccel.mat? [y]es, [n]o, [A]ll, [N]one, [r]ename: "
          ]
        }
      ]
    },
    {
      "cell_type": "markdown",
      "source": [
        "## 평균필터"
      ],
      "metadata": {
        "id": "DECcsMgZIrvS"
      }
    },
    {
      "cell_type": "code",
      "source": [
        "import numpy as np\n",
        "import matplotlib.pyplot as plt\n",
        "\n",
        "np.random.seed(0)"
      ],
      "metadata": {
        "id": "gaYrNmFmW5Qs"
      },
      "execution_count": 36,
      "outputs": []
    },
    {
      "cell_type": "code",
      "source": [
        "def get_volt():\n",
        "    \"\"\"Measure voltage.\"\"\"\n",
        "    v = np.random.normal(0, 4)  # v: measurement noise.\n",
        "    volt_mean = 14.4            # volt_mean: mean (nominal) voltage [V].\n",
        "    volt_meas = volt_mean + v   # volt_meas: measured voltage [V] (observable).\n",
        "    return volt_meas"
      ],
      "metadata": {
        "id": "X2OheodwW5X0"
      },
      "execution_count": 38,
      "outputs": []
    },
    {
      "cell_type": "code",
      "source": [
        "def avg_filter(k, x_meas, x_avg):\n",
        "    \"\"\"Calculate average voltage using a average filter.\"\"\"\n",
        "    alpha = (k - 1) / k\n",
        "    x_avg = alpha * x_avg + (1 - alpha) * x_meas\n",
        "    return x_avg"
      ],
      "metadata": {
        "id": "aNip75rMW5aP"
      },
      "execution_count": 39,
      "outputs": []
    },
    {
      "cell_type": "code",
      "source": [
        "# Input parameters.\n",
        "time_end = 10\n",
        "dt = 0.2"
      ],
      "metadata": {
        "id": "nR3qoxQHW5cb"
      },
      "execution_count": 40,
      "outputs": []
    },
    {
      "cell_type": "code",
      "source": [
        "time = np.arange(0, time_end, dt)\n",
        "n_samples = len(time)\n",
        "x_meas_save = np.zeros(n_samples)\n",
        "x_avg_save = np.zeros(n_samples)"
      ],
      "metadata": {
        "id": "gyJM2EasW_DV"
      },
      "execution_count": 41,
      "outputs": []
    },
    {
      "cell_type": "code",
      "source": [
        "x_meas_save"
      ],
      "metadata": {
        "colab": {
          "base_uri": "https://localhost:8080/"
        },
        "id": "dbzAaloDQsNg",
        "outputId": "da1ba43b-0d68-49dc-928d-969da860d2aa"
      },
      "execution_count": 42,
      "outputs": [
        {
          "output_type": "execute_result",
          "data": {
            "text/plain": [
              "array([0., 0., 0., 0., 0., 0., 0., 0., 0., 0., 0., 0., 0., 0., 0., 0., 0.,\n",
              "       0., 0., 0., 0., 0., 0., 0., 0., 0., 0., 0., 0., 0., 0., 0., 0., 0.,\n",
              "       0., 0., 0., 0., 0., 0., 0., 0., 0., 0., 0., 0., 0., 0., 0., 0.])"
            ]
          },
          "metadata": {},
          "execution_count": 42
        }
      ]
    },
    {
      "cell_type": "code",
      "source": [
        "x_avg_save"
      ],
      "metadata": {
        "colab": {
          "base_uri": "https://localhost:8080/"
        },
        "id": "WjZVbOZiQuMw",
        "outputId": "aea24236-1c35-4af8-a4c4-a8d7f07aab32"
      },
      "execution_count": 43,
      "outputs": [
        {
          "output_type": "execute_result",
          "data": {
            "text/plain": [
              "array([0., 0., 0., 0., 0., 0., 0., 0., 0., 0., 0., 0., 0., 0., 0., 0., 0.,\n",
              "       0., 0., 0., 0., 0., 0., 0., 0., 0., 0., 0., 0., 0., 0., 0., 0., 0.,\n",
              "       0., 0., 0., 0., 0., 0., 0., 0., 0., 0., 0., 0., 0., 0., 0., 0.])"
            ]
          },
          "metadata": {},
          "execution_count": 43
        }
      ]
    },
    {
      "cell_type": "code",
      "source": [
        "x_avg = 0\n",
        "for i in range(n_samples):\n",
        "    k = i + 1\n",
        "    x_meas = get_volt()   # 측정된 전압 -> 15.947609991437048\n",
        "    x_avg = avg_filter(k, x_meas, x_avg)  #(1,15.947609991437048, 0)\n",
        "\n",
        "    x_meas_save[i] = x_meas # 15.947609991437048\n",
        "    x_avg_save[i] = x_avg  # 15.947609991437048"
      ],
      "metadata": {
        "id": "DHSXUh0zW_lT"
      },
      "execution_count": 44,
      "outputs": []
    },
    {
      "cell_type": "code",
      "source": [
        "x_meas = get_volt()"
      ],
      "metadata": {
        "id": "syChBFtiR5fm"
      },
      "execution_count": 45,
      "outputs": []
    },
    {
      "cell_type": "code",
      "source": [
        "x_meas_save[1]"
      ],
      "metadata": {
        "colab": {
          "base_uri": "https://localhost:8080/"
        },
        "id": "QJiRVVa1TOJB",
        "outputId": "9492be7c-486c-499a-b102-e189b1850f90"
      },
      "execution_count": 46,
      "outputs": [
        {
          "output_type": "execute_result",
          "data": {
            "text/plain": [
              "16.000628833468895"
            ]
          },
          "metadata": {},
          "execution_count": 46
        }
      ]
    },
    {
      "cell_type": "code",
      "source": [
        "x_avg_save[1]"
      ],
      "metadata": {
        "colab": {
          "base_uri": "https://localhost:8080/"
        },
        "id": "OHXm5FKmUkJs",
        "outputId": "af6ef090-fdc5-49e8-f188-352f6465beaf"
      },
      "execution_count": 47,
      "outputs": [
        {
          "output_type": "execute_result",
          "data": {
            "text/plain": [
              "18.728419108669776"
            ]
          },
          "metadata": {},
          "execution_count": 47
        }
      ]
    },
    {
      "cell_type": "code",
      "source": [
        "plt.plot(time, x_meas_save, 'r*', label='Measured')\n",
        "plt.plot(time, x_avg_save, 'b-', label='Average')\n",
        "plt.legend(loc='upper left')\n",
        "plt.title('Measured Voltages v.s. Average Filter Values')\n",
        "plt.xlabel('Time [sec]')\n",
        "plt.ylabel('Volt [V]')\n",
        "#plt.savefig('png/average_filter.png')"
      ],
      "metadata": {
        "colab": {
          "base_uri": "https://localhost:8080/",
          "height": 312
        },
        "id": "HBTWcfovW_ne",
        "outputId": "f9e89113-e156-4952-ab89-5284a716b1aa"
      },
      "execution_count": 48,
      "outputs": [
        {
          "output_type": "execute_result",
          "data": {
            "text/plain": [
              "Text(0, 0.5, 'Volt [V]')"
            ]
          },
          "metadata": {},
          "execution_count": 48
        },
        {
          "output_type": "display_data",
          "data": {
            "text/plain": [
              "<Figure size 432x288 with 1 Axes>"
            ],
            "image/png": "[encoded data removed]"
          },
          "metadata": {
            "needs_background": "light"
          }
        }
      ]
    },
    {
      "cell_type": "markdown",
      "source": [
        "## 이동평균 필터"
      ],
      "metadata": {
        "id": "oPdwn0KZIusn"
      }
    },
    {
      "cell_type": "code",
      "source": [
        "import numpy as np\n",
        "import matplotlib.pyplot as plt\n",
        "from scipy import io"
      ],
      "metadata": {
        "id": "OP60Xxr3W_rX"
      },
      "execution_count": 49,
      "outputs": []
    },
    {
      "cell_type": "code",
      "source": [
        "input_mat = io.loadmat('/content/drive/MyDrive/Colab Notebooks/kalman_filter/2.MovAvgFilter/SonarAlt.mat')"
      ],
      "metadata": {
        "id": "1w-hqpHqW_tR"
      },
      "execution_count": 50,
      "outputs": []
    },
    {
      "cell_type": "code",
      "source": [
        "def get_sonar(i):\n",
        "    \"\"\"Measure sonar.\"\"\"\n",
        "    z = input_mat['sonarAlt'][0][i]  # input_mat['sonaralt']: (1, 1501)\n",
        "    return z"
      ],
      "metadata": {
        "id": "DUyPLBHkW_vT"
      },
      "execution_count": 51,
      "outputs": []
    },
    {
      "cell_type": "code",
      "source": [
        "input_mat['sonarAlt'].shape"
      ],
      "metadata": {
        "colab": {
          "base_uri": "https://localhost:8080/"
        },
        "id": "Rw39SAXbc_LB",
        "outputId": "3c426eeb-621d-4b8f-a11a-01d98d51a517"
      },
      "execution_count": 52,
      "outputs": [
        {
          "output_type": "execute_result",
          "data": {
            "text/plain": [
              "(1, 1501)"
            ]
          },
          "metadata": {},
          "execution_count": 52
        }
      ]
    },
    {
      "cell_type": "code",
      "source": [
        "input_mat['sonarAlt'][0][0]"
      ],
      "metadata": {
        "colab": {
          "base_uri": "https://localhost:8080/"
        },
        "id": "EXC2ZD3MeyvA",
        "outputId": "d15c8821-ebed-424e-ce34-69ad1a4b101d"
      },
      "execution_count": 53,
      "outputs": [
        {
          "output_type": "execute_result",
          "data": {
            "text/plain": [
              "34.2549125576344"
            ]
          },
          "metadata": {},
          "execution_count": 53
        }
      ]
    },
    {
      "cell_type": "code",
      "source": [
        "input_mat['sonarAlt'][0][1500]"
      ],
      "metadata": {
        "colab": {
          "base_uri": "https://localhost:8080/"
        },
        "id": "6gDZWEUle26g",
        "outputId": "e028e43d-655b-4060-c8c9-866e62054675"
      },
      "execution_count": 54,
      "outputs": [
        {
          "output_type": "execute_result",
          "data": {
            "text/plain": [
              "36.55540305115126"
            ]
          },
          "metadata": {},
          "execution_count": 54
        }
      ]
    },
    {
      "cell_type": "code",
      "source": [
        "input_mat"
      ],
      "metadata": {
        "colab": {
          "base_uri": "https://localhost:8080/"
        },
        "id": "-gfjO6b2eUC4",
        "outputId": "4a0690a6-59b4-4e50-8387-04e2f3c6c5f8"
      },
      "execution_count": 55,
      "outputs": [
        {
          "output_type": "execute_result",
          "data": {
            "text/plain": [
              "{'__globals__': [],\n",
              " '__header__': b'MATLAB 5.0 MAT-file, Platform: PCWIN, Created on: Thu Feb 25 13:19:03 2010',\n",
              " '__version__': '1.0',\n",
              " 'sonarAlt': array([[34.25491256, 33.60223519, 33.60223519, ..., 36.55540305,\n",
              "         36.55540305, 36.55540305]])}"
            ]
          },
          "metadata": {},
          "execution_count": 55
        }
      ]
    },
    {
      "cell_type": "code",
      "source": [
        "def mov_avg_filter(x_n, x_meas):\n",
        "    \"\"\"Calculate average sonar using a moving average filter (batch expression).\"\"\"\n",
        "    n = len(x_n)\n",
        "    for i in range(n-1):\n",
        "        x_n[i] = x_n[i+1]\n",
        "    x_n[n-1] = x_meas\n",
        "    x_avg = np.mean(x_n)\n",
        "    return x_avg, x_n"
      ],
      "metadata": {
        "id": "8E2K0HqCW_xB"
      },
      "execution_count": 56,
      "outputs": []
    },
    {
      "cell_type": "code",
      "source": [
        "# Input parameters.\n",
        "n = 10\n",
        "n_samples = 500\n",
        "time_end = 10"
      ],
      "metadata": {
        "id": "C0bvCtPlwfMl"
      },
      "execution_count": 57,
      "outputs": []
    },
    {
      "cell_type": "code",
      "source": [
        "dt = time_end / n_samples\n",
        "time = np.arange(0, time_end, dt)\n",
        "x_meas_save = np.zeros(n_samples)\n",
        "x_avg_save = np.zeros(n_samples)"
      ],
      "metadata": {
        "id": "iGe2QaFmwgfr"
      },
      "execution_count": 58,
      "outputs": []
    },
    {
      "cell_type": "code",
      "source": [
        "for i in range(n_samples):\n",
        "    x_meas = get_sonar(i)\n",
        "    if i == 0:\n",
        "        x_avg, x_n = x_meas, x_meas * np.ones(n)\n",
        "    else:\n",
        "        x_avg, x_n = mov_avg_filter(x_n, x_meas)\n",
        "\n",
        "    x_meas_save[i] = x_meas\n",
        "    x_avg_save[i] = x_avg"
      ],
      "metadata": {
        "id": "U-GNvZ4XwikK"
      },
      "execution_count": 59,
      "outputs": []
    },
    {
      "cell_type": "code",
      "source": [
        "get_sonar(0)"
      ],
      "metadata": {
        "colab": {
          "base_uri": "https://localhost:8080/"
        },
        "id": "jvAPePAsdtBZ",
        "outputId": "a8245464-7b43-40b0-b4cd-5848383b044a"
      },
      "execution_count": 60,
      "outputs": [
        {
          "output_type": "execute_result",
          "data": {
            "text/plain": [
              "34.2549125576344"
            ]
          },
          "metadata": {},
          "execution_count": 60
        }
      ]
    },
    {
      "cell_type": "code",
      "source": [
        "x_n"
      ],
      "metadata": {
        "colab": {
          "base_uri": "https://localhost:8080/"
        },
        "id": "IKyFX1BZdiB3",
        "outputId": "15d335ff-4f7c-4adf-e1bc-dd4318038e28"
      },
      "execution_count": 61,
      "outputs": [
        {
          "output_type": "execute_result",
          "data": {
            "text/plain": [
              "array([91.45882706, 91.45882706, 91.45882706, 86.83058068, 86.83058068,\n",
              "       84.91039196, 90.92215311, 84.91039196, 85.38303334, 87.32323009])"
            ]
          },
          "metadata": {},
          "execution_count": 61
        }
      ]
    },
    {
      "cell_type": "code",
      "source": [
        "plt.plot(time, x_meas_save, 'r*', label='Measured')\n",
        "plt.plot(time, x_avg_save, 'b-', label='Moving average')\n",
        "plt.legend(loc='upper left')\n",
        "plt.title('Measured Altitudes v.s. Moving Average Filter Values')\n",
        "plt.xlabel('Time [sec]')\n",
        "plt.ylabel('Altitude [m]')\n",
        "#plt.savefig('png/moving_average_filter.png')"
      ],
      "metadata": {
        "colab": {
          "base_uri": "https://localhost:8080/",
          "height": 312
        },
        "id": "qeLclJCHwjmD",
        "outputId": "37110a9d-f583-47d7-8dbb-d897c8eb0d3c"
      },
      "execution_count": 62,
      "outputs": [
        {
          "output_type": "execute_result",
          "data": {
            "text/plain": [
              "Text(0, 0.5, 'Altitude [m]')"
            ]
          },
          "metadata": {},
          "execution_count": 62
        },
        {
          "output_type": "display_data",
          "data": {
            "text/plain": [
              "<Figure size 432x288 with 1 Axes>"
            ],
            "image/png": "[encoded data removed]"
          },
          "metadata": {
            "needs_background": "light"
          }
        }
      ]
    },
    {
      "cell_type": "markdown",
      "source": [
        "## 저주파 통과 필터"
      ],
      "metadata": {
        "id": "sbXUmmeQI5f4"
      }
    },
    {
      "cell_type": "markdown",
      "source": [
        ""
      ],
      "metadata": {
        "id": "1Ha2EDbNs1TJ"
      }
    },
    {
      "cell_type": "code",
      "source": [
        "import numpy as np\n",
        "import matplotlib.pyplot as plt\n",
        "from scipy import io"
      ],
      "metadata": {
        "id": "GUdHIuClh-uq"
      },
      "execution_count": 63,
      "outputs": []
    },
    {
      "cell_type": "code",
      "source": [
        "input_mat = io.loadmat('/content/drive/MyDrive/Colab Notebooks/kalman_filter/2.MovAvgFilter/SonarAlt.mat')"
      ],
      "metadata": {
        "id": "y6LRHIgUs2vz"
      },
      "execution_count": 64,
      "outputs": []
    },
    {
      "cell_type": "code",
      "source": [
        "def get_sonar(i):\n",
        "    \"\"\"Measure sonar.\"\"\"\n",
        "    z = input_mat['sonarAlt'][0][i]  # input_mat['sonaralt']: (1, 1501)\n",
        "    return z"
      ],
      "metadata": {
        "id": "lNRT2Tq6s232"
      },
      "execution_count": 65,
      "outputs": []
    },
    {
      "cell_type": "code",
      "source": [
        "def low_pass_filter(x_meas, x_esti):\n",
        "    \"\"\"Calculate average sonar using a low-pass filter.\"\"\"\n",
        "    x_esti = alpha * x_esti + (1 - alpha) * x_meas\n",
        "    return x_esti"
      ],
      "metadata": {
        "id": "bKthNCmEs28_"
      },
      "execution_count": 66,
      "outputs": []
    },
    {
      "cell_type": "code",
      "source": [
        "# Input parameters.\n",
        "alpha = 0.7\n",
        "n_samples = 500\n",
        "time_end = 10"
      ],
      "metadata": {
        "id": "zTaWVyr5tBDX"
      },
      "execution_count": 67,
      "outputs": []
    },
    {
      "cell_type": "code",
      "source": [
        "dt = time_end / n_samples\n",
        "time = np.arange(0, time_end, dt)\n",
        "x_meas_save = np.zeros(n_samples)\n",
        "x_esti_save = np.zeros(n_samples)"
      ],
      "metadata": {
        "id": "rx39HshAtBFx"
      },
      "execution_count": 70,
      "outputs": []
    },
    {
      "cell_type": "code",
      "source": [
        "x_esti = None\n",
        "for i in range(n_samples):\n",
        "    x_meas = get_sonar(i)\n",
        "    if i == 0:\n",
        "        x_esti = x_meas\n",
        "    else:\n",
        "        x_esti = low_pass_filter(x_meas, x_esti) # (33.60223519111186,34.2549125576344)\n",
        "\n",
        "    x_meas_save[i] = x_meas  # 33.60223519111186\n",
        "    x_esti_save[i] = x_esti  # 34.059109347677634"
      ],
      "metadata": {
        "id": "kcl6n7WbtBIE"
      },
      "execution_count": 71,
      "outputs": []
    },
    {
      "cell_type": "code",
      "source": [
        "x_esti_save[1]"
      ],
      "metadata": {
        "colab": {
          "base_uri": "https://localhost:8080/"
        },
        "id": "9xCtrbsJy8w1",
        "outputId": "4f5468f0-0437-4457-c6ea-a946521cf8c5"
      },
      "execution_count": 72,
      "outputs": [
        {
          "output_type": "execute_result",
          "data": {
            "text/plain": [
              "34.059109347677634"
            ]
          },
          "metadata": {},
          "execution_count": 72
        }
      ]
    },
    {
      "cell_type": "code",
      "source": [
        "plt.plot(time, x_meas_save, 'r*', label='Measured')\n",
        "plt.plot(time, x_esti_save, 'b-', label='Low-pass Filter')\n",
        "plt.legend(loc='upper left')\n",
        "plt.title('Measured Altitudes v.s. LPF Values')\n",
        "plt.xlabel('Time [sec]')\n",
        "plt.ylabel('Altitude [m]')"
      ],
      "metadata": {
        "colab": {
          "base_uri": "https://localhost:8080/",
          "height": 312
        },
        "id": "haEKBj_1tBKj",
        "outputId": "d060748a-65b3-4c08-c56d-37316dddfecc"
      },
      "execution_count": 73,
      "outputs": [
        {
          "output_type": "execute_result",
          "data": {
            "text/plain": [
              "Text(0, 0.5, 'Altitude [m]')"
            ]
          },
          "metadata": {},
          "execution_count": 73
        },
        {
          "output_type": "display_data",
          "data": {
            "text/plain": [
              "<Figure size 432x288 with 1 Axes>"
            ],
            "image/png": "[encoded data removed]"
          },
          "metadata": {
            "needs_background": "light"
          }
        }
      ]
    },
    {
      "cell_type": "code",
      "source": [
        "# low_alpha vs high_alpha\n",
        "\n",
        "alpha = 0.4\n",
        "n_samples = 500\n",
        "time_end = 10\n"
      ],
      "metadata": {
        "id": "Xsb6jnIFtBNQ"
      },
      "execution_count": 74,
      "outputs": []
    },
    {
      "cell_type": "code",
      "source": [
        "dt = time_end / n_samples\n",
        "time = np.arange(0, time_end, dt)\n",
        "x_meas_save_low = np.zeros(n_samples)\n",
        "x_esti_save_low = np.zeros(n_samples)"
      ],
      "metadata": {
        "id": "bcSQ9LNozvyB"
      },
      "execution_count": 75,
      "outputs": []
    },
    {
      "cell_type": "code",
      "source": [
        "x_esti = None\n",
        "for i in range(n_samples):\n",
        "    x_meas = get_sonar(i)\n",
        "    if i == 0:\n",
        "        x_esti = x_meas\n",
        "    else:\n",
        "        x_esti = low_pass_filter(x_meas, x_esti)  \n",
        "\n",
        "    x_meas_save_low[i] = x_meas  \n",
        "    x_esti_save_low[i] = x_esti"
      ],
      "metadata": {
        "id": "lNeskoNxzv0c"
      },
      "execution_count": 76,
      "outputs": []
    },
    {
      "cell_type": "code",
      "source": [
        "alpha = 0.9\n",
        "n_samples = 500\n",
        "time_end = 10"
      ],
      "metadata": {
        "id": "GgyFcZKRzv2g"
      },
      "execution_count": 77,
      "outputs": []
    },
    {
      "cell_type": "code",
      "source": [
        "dt = time_end / n_samples\n",
        "time = np.arange(0, time_end, dt)\n",
        "x_meas_save_high = np.zeros(n_samples)\n",
        "x_esti_save_high = np.zeros(n_samples)"
      ],
      "metadata": {
        "id": "pUZa4Wlzzv4q"
      },
      "execution_count": 78,
      "outputs": []
    },
    {
      "cell_type": "code",
      "source": [
        "x_esti = None\n",
        "for i in range(n_samples):\n",
        "    x_meas = get_sonar(i)\n",
        "    if i == 0:\n",
        "        x_esti = x_meas\n",
        "    else:\n",
        "        x_esti = low_pass_filter(x_meas, x_esti)  \n",
        "\n",
        "    x_meas_save_high[i] = x_meas  \n",
        "    x_esti_save_high[i] = x_esti"
      ],
      "metadata": {
        "id": "HN_ls9IOzv6s"
      },
      "execution_count": 79,
      "outputs": []
    },
    {
      "cell_type": "code",
      "source": [
        "plt.plot(time, x_esti_save_low, 'r-', label='Low-pass Filter_low(0.4)')\n",
        "plt.plot(time, x_esti_save_high, 'b-', label='Low-pass Filter_high(0.9)')\n",
        "plt.legend(loc='upper left')\n",
        "plt.title('Low-pass Filter_low v.s. Low-pass Filter_high')\n",
        "plt.xlabel('Time [sec]')\n",
        "plt.ylabel('Altitude [m]')"
      ],
      "metadata": {
        "colab": {
          "base_uri": "https://localhost:8080/",
          "height": 312
        },
        "id": "H_tR3A2fzv8w",
        "outputId": "a072bb2b-f171-4644-dae2-603cfbe62c3b"
      },
      "execution_count": 80,
      "outputs": [
        {
          "output_type": "execute_result",
          "data": {
            "text/plain": [
              "Text(0, 0.5, 'Altitude [m]')"
            ]
          },
          "metadata": {},
          "execution_count": 80
        },
        {
          "output_type": "display_data",
          "data": {
            "text/plain": [
              "<Figure size 432x288 with 1 Axes>"
            ],
            "image/png": "[encoded data removed]"
          },
          "metadata": {
            "needs_background": "light"
          }
        }
      ]
    },
    {
      "cell_type": "code",
      "source": [
        ""
      ],
      "metadata": {
        "id": "IgQwK7Uuzv_D"
      },
      "execution_count": 80,
      "outputs": []
    }
  ]
}